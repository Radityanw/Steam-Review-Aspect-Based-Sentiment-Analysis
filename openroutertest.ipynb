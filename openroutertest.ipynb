{
 "cells": [
  {
   "cell_type": "code",
   "execution_count": 1,
   "metadata": {},
   "outputs": [
    {
     "name": "stdout",
     "output_type": "stream",
     "text": [
      "Requirement already satisfied: requests in c:\\users\\raditya\\appdata\\local\\programs\\python\\python313\\lib\\site-packages (2.32.3)\n",
      "Requirement already satisfied: pandas in c:\\users\\raditya\\appdata\\local\\programs\\python\\python313\\lib\\site-packages (2.2.3)\n",
      "Requirement already satisfied: pymongo in c:\\users\\raditya\\appdata\\local\\programs\\python\\python313\\lib\\site-packages (4.10.1)\n",
      "Requirement already satisfied: tqdm in c:\\users\\raditya\\appdata\\local\\programs\\python\\python313\\lib\\site-packages (4.67.1)\n",
      "Requirement already satisfied: charset-normalizer<4,>=2 in c:\\users\\raditya\\appdata\\local\\programs\\python\\python313\\lib\\site-packages (from requests) (3.4.0)\n",
      "Requirement already satisfied: idna<4,>=2.5 in c:\\users\\raditya\\appdata\\local\\programs\\python\\python313\\lib\\site-packages (from requests) (3.10)\n",
      "Requirement already satisfied: urllib3<3,>=1.21.1 in c:\\users\\raditya\\appdata\\local\\programs\\python\\python313\\lib\\site-packages (from requests) (2.2.3)\n",
      "Requirement already satisfied: certifi>=2017.4.17 in c:\\users\\raditya\\appdata\\local\\programs\\python\\python313\\lib\\site-packages (from requests) (2024.12.14)\n",
      "Requirement already satisfied: numpy>=1.26.0 in c:\\users\\raditya\\appdata\\local\\programs\\python\\python313\\lib\\site-packages (from pandas) (2.2.0)\n",
      "Requirement already satisfied: python-dateutil>=2.8.2 in c:\\users\\raditya\\appdata\\roaming\\python\\python313\\site-packages (from pandas) (2.9.0.post0)\n",
      "Requirement already satisfied: pytz>=2020.1 in c:\\users\\raditya\\appdata\\local\\programs\\python\\python313\\lib\\site-packages (from pandas) (2024.2)\n",
      "Requirement already satisfied: tzdata>=2022.7 in c:\\users\\raditya\\appdata\\local\\programs\\python\\python313\\lib\\site-packages (from pandas) (2024.2)\n",
      "Requirement already satisfied: dnspython<3.0.0,>=1.16.0 in c:\\users\\raditya\\appdata\\local\\programs\\python\\python313\\lib\\site-packages (from pymongo) (2.7.0)\n",
      "Requirement already satisfied: colorama in c:\\users\\raditya\\appdata\\roaming\\python\\python313\\site-packages (from tqdm) (0.4.6)\n",
      "Requirement already satisfied: six>=1.5 in c:\\users\\raditya\\appdata\\local\\programs\\python\\python313\\lib\\site-packages (from python-dateutil>=2.8.2->pandas) (1.17.0)\n",
      "Note: you may need to restart the kernel to use updated packages.\n"
     ]
    },
    {
     "name": "stderr",
     "output_type": "stream",
     "text": [
      "\n",
      "[notice] A new release of pip is available: 24.3.1 -> 25.0.1\n",
      "[notice] To update, run: python.exe -m pip install --upgrade pip\n"
     ]
    }
   ],
   "source": [
    "pip install requests pandas pymongo tqdm"
   ]
  },
  {
   "cell_type": "code",
   "execution_count": 2,
   "metadata": {},
   "outputs": [],
   "source": [
    "import requests\n",
    "import json\n",
    "import pandas as pd\n",
    "import time\n",
    "from pymongo import MongoClient\n",
    "from tqdm import tqdm\n",
    "import re"
   ]
  },
  {
   "cell_type": "code",
   "execution_count": 3,
   "metadata": {},
   "outputs": [],
   "source": [
    "# Connect to MongoDB\n",
    "client = MongoClient(\"mongodb://localhost:27017/\")  \n",
    "db = client[\"steam_reviews\"] \n",
    "collection = db[\"analyzed_reviews\"]  \n"
   ]
  },
  {
   "cell_type": "code",
   "execution_count": 4,
   "metadata": {},
   "outputs": [],
   "source": [
    "# OpenRouter API Key\n",
    "API_KEY = \"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\"\n",
    "API_URL = \"https://openrouter.ai/api/v1/chat/completions\""
   ]
  },
  {
   "cell_type": "code",
   "execution_count": null,
   "metadata": {},
   "outputs": [],
   "source": [
    "def analyze_review(review_text):\n",
    "\n",
    "    sprompt = \"\"\"\n",
    "    You are an AI assistant analyzing video game reviews using Aspect-Based Sentiment Analysis (ABSA).\n",
    "    Your task: Analyze the following review and identify the mentioned aspects.\n",
    "    For each aspect, classify the sentiment as positive, negative, neutral, or not mentioned, and provide a reason.\n",
    "\n",
    "    Aspects to Analyze:\n",
    "\n",
    "    Gameplay : including but not limited to : Covers mechanics, skill trees, controls, and overall game feel.\n",
    "    Graphics Fidelity : including but not limited to : Evaluates visual quality, including realism, art style, and graphical polish. Any graphical bugs should be categorized under Technical.\n",
    "    Story : including but not limited to : Assesses quests, dialogue quality, character development, and overall narrative structure.\n",
    "    Technical : including but not limited to : Focuses on performance issues, bugs, crashes, optimization, and stability.\n",
    "    World : including but not limited to : Examines world-building, city/environment design, immersion, and level design.\n",
    "    Multiplayer : including but not limited to : Reviews social features, matchmaking, co-op functionality, and overall multiplayer experience.\n",
    "\n",
    "💡 Instructions: Follow this exact order when analyzing aspects. Even if an aspect is not mentioned in the review, still include it and provide a clear reason why it was not mentioned.\n",
    "\n",
    "     The output format should be:\n",
    "    {\n",
    "      \"aspects\": [\n",
    "        {\n",
    "          \"aspect\": \"<aspect_name>\",\n",
    "          \"sentiment\": \"<positive/negative/neutral/not mentioned>\",\n",
    "          \"reason\": \"<brief reason>\"\n",
    "        },\n",
    "        ...\n",
    "      ]\n",
    "    }\n",
    "\n",
    "    Ensure the output is in **strict JSON format**.\n",
    "    \"\"\"\n",
    "    payload = {\n",
    "        \"model\": \"google/gemini-2.0-flash-exp:free\",  \n",
    "        \"messages\": [\n",
    "            {\"role\": \"system\", \"content\": sprompt},\n",
    "            {\"role\": \"user\", \"content\": review_text}\n",
    "        ],\n",
    "        \"temperature\": 0.2,\n",
    "        \"stream\": False \n",
    "    }\n",
    "    headers = {\n",
    "        \"Authorization\": f\"Bearer {API_KEY}\",\n",
    "        \"Content-Type\": \"application/json\"\n",
    "    }\n",
    "\n",
    "    try:\n",
    "        response = requests.post(API_URL, headers=headers, json=payload)\n",
    "        response.raise_for_status()  \n",
    "        llm_content = response.json()[\"choices\"][0][\"message\"][\"content\"]\n",
    "        print(\"🔹 Raw LLM Output:\", llm_content)  \n",
    "        cleaned_json = re.sub(r\"```json\\n(.*?)\\n```\", r\"\\1\", llm_content, flags=re.DOTALL)\n",
    "        analysis_json = json.loads(cleaned_json)\n",
    "        return analysis_json\n",
    "\n",
    "    except requests.exceptions.RequestException as e:\n",
    "        print(\"Request Error:\", str(e))\n",
    "        return {\"error\": str(e)}\n",
    "\n",
    "    except json.JSONDecodeError:\n",
    "        print(\"JSON Decode Error. Response was not valid JSON.\")\n",
    "        return {\"error\": \"Invalid JSON response\"}\n"
   ]
  },
  {
   "cell_type": "code",
   "execution_count": 6,
   "metadata": {},
   "outputs": [],
   "source": [
    "def process_reviews(file_path):\n",
    "    df = pd.read_csv(file_path)\n",
    "    for index, row in tqdm(df.iterrows(), total=df.shape[0]):\n",
    "        review_text = row[\"review\"]\n",
    "        analysis_result = analyze_review(review_text)\n",
    "        final_data = {\n",
    "            \"app_id\": row[\"app_id\"],\n",
    "            \"recommended\": row[\"recommended\"],\n",
    "            \"date_posted\": row[\"date_posted\"],\n",
    "            \"review_text\": review_text,\n",
    "            \"analysis\": analysis_result\n",
    "        }\n",
    "        collection.insert_one(final_data)\n",
    "        time.sleep(3)\n",
    "    print(\"Stored in mongodb\")\n"
   ]
  },
  {
   "cell_type": "code",
   "execution_count": 7,
   "metadata": {},
   "outputs": [
    {
     "name": "stderr",
     "output_type": "stream",
     "text": [
      "  0%|          | 0/3 [00:00<?, ?it/s]"
     ]
    },
    {
     "name": "stdout",
     "output_type": "stream",
     "text": [
      "🔹 Raw LLM Output: ```json\n",
      "{\n",
      "  \"aspects\": [\n",
      "    {\n",
      "      \"aspect\": \"Gameplay\",\n",
      "      \"sentiment\": \"negative\",\n",
      "      \"reason\": \"The review criticizes the lack of depth in gameplay mechanics, comparing it unfavorably to a 'first person GTA knockoff' and a 'looter-shooter with GTA elements'. It mentions skill trees and combat options but notes a lack of significant depth.\"\n",
      "    },\n",
      "    {\n",
      "      \"aspect\": \"Graphics Fidelity\",\n",
      "      \"sentiment\": \"not mentioned\",\n",
      "      \"reason\": \"The review does not mention the graphical quality or art style of the game.\"\n",
      "    },\n",
      "    {\n",
      "      \"aspect\": \"Story\",\n",
      "      \"sentiment\": \"negative\",\n",
      "      \"reason\": \"The review mentions that choices and 'life paths' are mostly inconsequential, suggesting a lack of meaningful impact from the narrative elements.\"\n",
      "    },\n",
      "    {\n",
      "      \"aspect\": \"Technical\",\n",
      "      \"sentiment\": \"not mentioned\",\n",
      "      \"reason\": \"The review does not mention any performance issues, bugs, or optimization problems.\"\n",
      "    },\n",
      "    {\n",
      "      \"aspect\": \"World\",\n",
      "      \"sentiment\": \"negative\",\n",
      "      \"reason\": \"The review describes the open world as 'lifeless' due to 'lackluster NPC behavior' and a lack of meaningful activities beyond quests and shopping.\"\n",
      "    },\n",
      "    {\n",
      "      \"aspect\": \"Multiplayer\",\n",
      "      \"sentiment\": \"not mentioned\",\n",
      "      \"reason\": \"The review does not mention any multiplayer aspects of the game.\"\n",
      "    }\n",
      "  ]\n",
      "}\n",
      "```\n"
     ]
    },
    {
     "name": "stderr",
     "output_type": "stream",
     "text": [
      " 33%|███▎      | 1/3 [00:08<00:16,  8.07s/it]"
     ]
    },
    {
     "name": "stdout",
     "output_type": "stream",
     "text": [
      "🔹 Raw LLM Output: ```json\n",
      "{\n",
      "  \"aspects\": [\n",
      "    {\n",
      "      \"aspect\": \"Gameplay\",\n",
      "      \"sentiment\": \"positive\",\n",
      "      \"reason\": \"The reviewer mentions the gameplay is a lot of fun, the guns pack a huge punch, and melee with katanas is fun. They also praise the decision-making and quest design.\"\n",
      "    },\n",
      "    {\n",
      "      \"aspect\": \"Graphics Fidelity\",\n",
      "      \"sentiment\": \"neutral\",\n",
      "      \"reason\": \"The reviewer states that graphics are important but less so than player agency, good writing, and fun gameplay.\"\n",
      "    },\n",
      "    {\n",
      "      \"aspect\": \"Story\",\n",
      "      \"sentiment\": \"positive\",\n",
      "      \"reason\": \"The reviewer states that narratively the game excels, the dialogue is well written and acted, and the characters are hard to not fall in love with.\"\n",
      "    },\n",
      "    {\n",
      "      \"aspect\": \"Technical\",\n",
      "      \"sentiment\": \"negative\",\n",
      "      \"reason\": \"The reviewer mentions crashing issues initially and that the game is plagued with bugs, even after a hotfix. They describe them as 'immersion raping bugs'.\"\n",
      "    },\n",
      "    {\n",
      "      \"aspect\": \"World\",\n",
      "      \"sentiment\": \"neutral\",\n",
      "      \"reason\": \"The reviewer mentions that walking around the world is exhilarating but unengaging, lacking interactivity.\"\n",
      "    },\n",
      "    {\n",
      "      \"aspect\": \"Multiplayer\",\n",
      "      \"sentiment\": \"not mentioned\",\n",
      "      \"reason\": \"The review does not mention any multiplayer aspects of the game.\"\n",
      "    }\n",
      "  ]\n",
      "}\n",
      "```\n"
     ]
    },
    {
     "name": "stderr",
     "output_type": "stream",
     "text": [
      " 67%|██████▋   | 2/3 [00:16<00:08,  8.02s/it]"
     ]
    },
    {
     "name": "stdout",
     "output_type": "stream",
     "text": [
      "🔹 Raw LLM Output: ```json\n",
      "{\n",
      "  \"aspects\": [\n",
      "    {\n",
      "      \"aspect\": \"Gameplay\",\n",
      "      \"sentiment\": \"neutral\",\n",
      "      \"reason\": \"The review mentions 'next-gen gameplay? Nope' but doesn't elaborate on specific gameplay mechanics, controls, or skill trees. Therefore, the sentiment is neutral.\"\n",
      "    },\n",
      "    {\n",
      "      \"aspect\": \"Graphics Fidelity\",\n",
      "      \"sentiment\": \"negative\",\n",
      "      \"reason\": \"The review states 'Next-gen graphics? Hmm.. no, I don't think so,' indicating a negative sentiment towards the game's graphics fidelity.\"\n",
      "    },\n",
      "    {\n",
      "      \"aspect\": \"Story\",\n",
      "      \"sentiment\": \"positive\",\n",
      "      \"reason\": \"The review expresses a positive sentiment towards the story, describing it as 'great story' and 'rock solid' and highlighting the multiple paths and replayability offered by the Phantom Liberty expansion.\"\n",
      "    },\n",
      "    {\n",
      "      \"aspect\": \"Technical\",\n",
      "      \"sentiment\": \"negative\",\n",
      "      \"reason\": \"The review explicitly mentions the game being 'Unpolished and buggy? Yep' and 'Glitchy and resource demanding? Yep,' indicating a negative sentiment towards the game's technical aspects. It also advises waiting for fixes if sensitive to bugs.\"\n",
      "    },\n",
      "    {\n",
      "      \"aspect\": \"World\",\n",
      "      \"sentiment\": \"positive\",\n",
      "      \"reason\": \"The review expresses a positive sentiment towards the game's world, describing it as an 'amazing setting,' 'immersive and huge open world,' and highlighting the improvements to Night City and the addition of Dogtown in the Phantom Liberty expansion.\"\n",
      "    },\n",
      "    {\n",
      "      \"aspect\": \"Multiplayer\",\n",
      "      \"sentiment\": \"not mentioned\",\n",
      "      \"reason\": \"The review does not mention any multiplayer aspects of the game, such as co-op functionality, social features, or matchmaking.\"\n",
      "    }\n",
      "  ]\n",
      "}\n",
      "```\n"
     ]
    },
    {
     "name": "stderr",
     "output_type": "stream",
     "text": [
      "100%|██████████| 3/3 [00:24<00:00,  8.24s/it]"
     ]
    },
    {
     "name": "stdout",
     "output_type": "stream",
     "text": [
      "Stored in mongodb\n"
     ]
    },
    {
     "name": "stderr",
     "output_type": "stream",
     "text": [
      "\n"
     ]
    }
   ],
   "source": [
    "process_reviews(\"steamreviews.csv\")"
   ]
  }
 ],
 "metadata": {
  "kernelspec": {
   "display_name": "Python 3",
   "language": "python",
   "name": "python3"
  },
  "language_info": {
   "codemirror_mode": {
    "name": "ipython",
    "version": 3
   },
   "file_extension": ".py",
   "mimetype": "text/x-python",
   "name": "python",
   "nbconvert_exporter": "python",
   "pygments_lexer": "ipython3",
   "version": "3.13.1"
  }
 },
 "nbformat": 4,
 "nbformat_minor": 2
}
